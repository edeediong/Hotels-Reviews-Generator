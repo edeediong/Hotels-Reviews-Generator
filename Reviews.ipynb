{
  "nbformat": 4,
  "nbformat_minor": 0,
  "metadata": {
    "colab": {
      "name": "Reviews.ipynb",
      "version": "0.3.2",
      "provenance": [],
      "collapsed_sections": []
    },
    "kernelspec": {
      "name": "python3",
      "display_name": "Python 3"
    }
  },
  "cells": [
    {
      "cell_type": "code",
      "metadata": {
        "id": "Az6HuBf3vgxi",
        "colab_type": "code",
        "colab": {}
      },
      "source": [
        "#Create a directory on google colab called kaggle\n",
        "!mkdir .kaggle"
      ],
      "execution_count": 0,
      "outputs": []
    },
    {
      "cell_type": "code",
      "metadata": {
        "id": "R0slP8h-vpTe",
        "colab_type": "code",
        "colab": {}
      },
      "source": [
        "#import all relevant libraries\n",
        "import json\n",
        "from google.colab import drive\n",
        "import pandas as pd"
      ],
      "execution_count": 0,
      "outputs": []
    },
    {
      "cell_type": "code",
      "metadata": {
        "id": "nR_hv7S-wbaY",
        "colab_type": "code",
        "colab": {}
      },
      "source": [
        "#open kaggle api\n",
        "token = {'username':'control105','key': \"4ddaa99fc58747d6a9b1092fdb8f03ea\"}\n",
        "with open('/content/.kaggle/kaggle.json','w') as file:\n",
        "  json.dump(token,file)"
      ],
      "execution_count": 0,
      "outputs": []
    },
    {
      "cell_type": "code",
      "metadata": {
        "id": "n8oNzx49wpe3",
        "colab_type": "code",
        "colab": {}
      },
      "source": [
        "#read and write content of json\n",
        "!chmod 600 /content/.kaggle/kaggle.json"
      ],
      "execution_count": 0,
      "outputs": []
    },
    {
      "cell_type": "code",
      "metadata": {
        "id": "gfV2WX2rxFDf",
        "colab_type": "code",
        "colab": {}
      },
      "source": [
        "#Set path to content\n",
        "!kaggle config set -n path -v{/content}"
      ],
      "execution_count": 0,
      "outputs": []
    },
    {
      "cell_type": "code",
      "metadata": {
        "id": "UghyCcGwyO79",
        "colab_type": "code",
        "colab": {}
      },
      "source": [
        "#mount drive\n",
        "drive.mount('/content/drive')"
      ],
      "execution_count": 0,
      "outputs": []
    },
    {
      "cell_type": "code",
      "metadata": {
        "id": "HilSCT5HyanP",
        "colab_type": "code",
        "colab": {}
      },
      "source": [
        "#change directory to HNG\n",
        "%cd /content/drive/My\\ Drive/HNG"
      ],
      "execution_count": 0,
      "outputs": []
    },
    {
      "cell_type": "code",
      "metadata": {
        "id": "mXEh4klqykEJ",
        "colab_type": "code",
        "colab": {}
      },
      "source": [
        "#download kaggle dataset to drive and unzip\n",
        "!kaggle datasets download -d jiashenliu/515k-hotel-reviews-data-in-europe -p /content/drive/My\\ Drive/HNG/training_data\n",
        "!unzip /content/drive/My\\ Drive/HNG/training_data/515k-hotel-reviews-data-in-europe.zip -d /content/drive/My\\ Drive/HNG/training_data"
      ],
      "execution_count": 0,
      "outputs": []
    },
    {
      "cell_type": "code",
      "metadata": {
        "id": "adVxflIizg4-",
        "colab_type": "code",
        "colab": {}
      },
      "source": [
        "#view contents of folders\n",
        "!ls -la /content/drive/My\\ Drive/HNG/training_data\n",
        "!ls -la /content/drive/My\\ Drive/HNG/"
      ],
      "execution_count": 0,
      "outputs": []
    },
    {
      "cell_type": "code",
      "metadata": {
        "id": "1ZVdXhUCztjY",
        "colab_type": "code",
        "colab": {}
      },
      "source": [
        "#wrangle csv file\n",
        "df = pd.read_csv('/content/drive/My Drive/HNG/training_data/Hotel_Reviews.csv')\n",
        "df = pd.concat([df['Negative_Review'], df['Positive_Review']], ignore_index=True)\n",
        "df = df.loc[~df.isin(['No Negative', 'No Positive'])]\n",
        "df = df.loc[df.str.len() > 20]\n",
        "df = df.drop_duplicates()\n",
        "\n",
        "\n",
        "df.to_csv('/content/drive/My Drive/HNG/training_data/Hotel_Reviews_Training.csv', header=False, index=False)"
      ],
      "execution_count": 0,
      "outputs": []
    },
    {
      "cell_type": "code",
      "metadata": {
        "id": "jAVp6Ra40IML",
        "colab_type": "code",
        "colab": {}
      },
      "source": [
        "#clone gpt-2 model\n",
        "!git clone https://github.com/nshepperd/gpt-2.git"
      ],
      "execution_count": 0,
      "outputs": []
    },
    {
      "cell_type": "code",
      "metadata": {
        "id": "NPMqIiau0RV6",
        "colab_type": "code",
        "colab": {}
      },
      "source": [
        "#change directory to cloned folder\n",
        "cd gpt-2"
      ],
      "execution_count": 0,
      "outputs": []
    },
    {
      "cell_type": "code",
      "metadata": {
        "id": "gAkwcLcg0sJ0",
        "colab_type": "code",
        "colab": {}
      },
      "source": [
        "#download model\n",
        "!python3 download_model.py 117M"
      ],
      "execution_count": 0,
      "outputs": []
    },
    {
      "cell_type": "code",
      "metadata": {
        "id": "Y6iS6xIo29Cp",
        "colab_type": "code",
        "colab": {}
      },
      "source": [
        "#encode to terminal\n",
        "!export PYTHONIOENCODING=UTF-8"
      ],
      "execution_count": 0,
      "outputs": []
    },
    {
      "cell_type": "code",
      "metadata": {
        "id": "mdQK1ES43Foo",
        "colab_type": "code",
        "colab": {}
      },
      "source": [
        "#read files\n",
        "!PYTHONPATH=src python3 encode.py /content/drive/My\\ Drive/HNG/training_data/Hotel_Reviews_Training.csv /content/drive/My\\ Drive/HNG/training_data/Hotel_Reviews_Training.csv.npz"
      ],
      "execution_count": 0,
      "outputs": []
    },
    {
      "cell_type": "code",
      "metadata": {
        "id": "rEMC_fla3N40",
        "colab_type": "code",
        "colab": {}
      },
      "source": [
        "#train dataset\n",
        "!PYTHONPATH=src python3 train.py --dataset /content/drive/My\\ Drive/HNG/training_data/Hotel_Reviews_Training.csv.npz"
      ],
      "execution_count": 0,
      "outputs": []
    },
    {
      "cell_type": "code",
      "metadata": {
        "id": "OEv85y4m5leL",
        "colab_type": "code",
        "colab": {}
      },
      "source": [
        " #copy contents\n",
        "!cp -r /content/drive/My\\ Drive/HNG//gpt-2/checkpoint/run1/* /content/drive/My\\ Drive/HNG/gpt-2/models/117M/"
      ],
      "execution_count": 0,
      "outputs": []
    },
    {
      "cell_type": "code",
      "metadata": {
        "id": "All7obF86cOB",
        "colab_type": "code",
        "colab": {}
      },
      "source": [
        "#produce test result\n",
        "!python3 src/interactive_conditional_samples.py --top_k 40 --length=30"
      ],
      "execution_count": 0,
      "outputs": []
    }
  ]
}